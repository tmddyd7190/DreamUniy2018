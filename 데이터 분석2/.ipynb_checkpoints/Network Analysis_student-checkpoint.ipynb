{
 "cells": [
  {
   "cell_type": "markdown",
   "metadata": {},
   "source": [
    "# 소셜 네트워크 분석"
   ]
  },
  {
   "cell_type": "markdown",
   "metadata": {},
   "source": [
    "## 1. 비즈니스 이해\n",
    "\n",
    "### Background: 어떠한 문제가 존재하는지 상황에 대해 알려진 기사, 논문, 보고서 등을 인용하여 현상을 구체적으로 기술하시기 바랍니다.\n",
    "- [[열려라 공부] 새 친구 '탐색 시기' 학교폭력도 늘어요](http://news.joins.com/article/21292322)\n",
    "- 새 학년이 시작되는 3월엔 새로 만난 학생 사이의 갈등도 생기기 마련이다. 송형호 서울 천호중 교사(전 서울시교육청학교폭력담당 파견교사)는 이를 두고 ‘3주의 징크스’라고 불렀다. 개학 직후 1~2주를 지나 3주차가 되면 크고 작은 학교폭력이 시작된다는 설명이다.\n",
    "\n",
    "### Business Objectives: 기업(혹은 본인)에게 이 현상이 어떠한 이유로 분석을 해야 하는지 추상적(함축적)으로 기술하시기 바랍니다.\n",
    "- 교우관계 진단을 통해 “따돌림 위기군”을 사전에 파악하고, 학교 내 청소년 교우관계 문제를 해소하는데 도움이 되고자 함.\n",
    "\n",
    "### Business Success Criteria: 비즈니스 관점에서 분석결과의 성공기준(정량적) 또는 유용한 결과에 대한 기준(정성적)을 설명하십시오.\n",
    "- 교사 입장에서 교우관계 진단을 통해, 집중적으로 관리해야할 학생군을 파악하고, 학기 초와 비교하여 학기 말에 1명(왕따) 혹은 2명의 학생 네트워크 수를 줄인다.\n",
    "\n",
    "### Analysis Goals: 비즈니스 목표에 대한 의사결정 지원을 위해 실시하는 분석의 목표를 기술합니다. \n",
    "- 학생 네트워크 수의 변화 양상 분석, 소수 학생(1명 혹은 2명간) 네트워크 파악\n",
    "- ![외톨이 유형](외톨이.jpg)\n",
    "- 참조문헌(http://cyram.tistory.com/213)"
   ]
  },
  {
   "cell_type": "markdown",
   "metadata": {},
   "source": [
    "## 2. 데이터의 이해\n",
    "- 학기초 학생에 대한 설문조사를 실시하여 데이터를 수집함.\n",
    "- [구글 설문조사 활용](https://goo.gl/forms/QSPhpQmOpWwxT1gS2)\n",
    "    - 구글 설문: 학기 초 1회 실시(47명)\n",
    "    - 구글 설문: 학기 중간 1회 실시(47명)\n",
    "- 데이터 전처리 : 2개 entity를 결합 / 집계\n"
   ]
  },
  {
   "cell_type": "markdown",
   "metadata": {},
   "source": [
    "## 3. 데이터 준비"
   ]
  },
  {
   "cell_type": "code",
   "execution_count": 6,
   "metadata": {},
   "outputs": [],
   "source": [
    "# 네트워크 분석을 지원하는 networkx, pydot 모듈을 설치해야 함.\n",
    "# conda install -c anaconda networkx\n",
    "# pip install pydot\n",
    "import pandas as pd\n",
    "import matplotlib.pyplot as plt\n",
    "import networkx as nx\n",
    "import pydot\n",
    "%matplotlib inline\n",
    "\n",
    "# 폰트 문제 해결하기\n",
    "import platform\n",
    "\n",
    "path = \"c:/Windows/Fonts/malgun.ttf\"\n",
    "from matplotlib import font_manager, rc\n",
    "if platform.system() == 'Darwin':\n",
    "    rc('font', family='AppleGothic')\n",
    "elif platform.system() == 'Windows':\n",
    "    font_name = font_manager.FontProperties(fname=path).get_name()\n",
    "    rc('font', family=font_name)\n",
    "else:\n",
    "    print('Unknown system... sorry~~~~') "
   ]
  },
  {
   "cell_type": "markdown",
   "metadata": {},
   "source": [
    "#### 네트워크 그래프 클래스\n",
    "- Graph: 이 클래스는 무방향 그래프를 구현합니다. 두 노드 사이의 여러 엣지를 무시합니다. 노드와 노드 사이에 자체 루프 에지를 허용합니다.\n",
    "- DiGraph: 방향성 그래프, 즉 방향성 엣지를 가진 그래프. 유향 그래프(Graph의 서브 클래스)에 공통의 조작을 제공합니다.\n",
    "- MultiGraph: 노드 쌍 사이에 여러 무방향 에지를 허용하는 유연한 그래프 클래스입니다. 추가 유연성은 일반적으로 중요하지 않지만 성능 저하를 가져옵니다.\n",
    "- MultiDiGraph: MultiGraph의 방향성 버전."
   ]
  },
  {
   "cell_type": "code",
   "execution_count": null,
   "metadata": {},
   "outputs": [],
   "source": [
    "# 그래프 유형 선언\n",
    "G1 = nx.Graph()\n",
    "G2 = nx.DiGraph()\n",
    "G3 = nx.MultiGraph()\n",
    "G4 = nx.MultiDiGraph()"
   ]
  },
  {
   "cell_type": "code",
   "execution_count": 7,
   "metadata": {},
   "outputs": [
    {
     "data": {
      "text/plain": [
       "['A', 'B', 'D']"
      ]
     },
     "execution_count": 7,
     "metadata": {},
     "output_type": "execute_result"
    }
   ],
   "source": [
    "G = nx.Graph()\n",
    "G.add_edge('A', 'B')\n",
    "G.add_edge('B', 'D')\n",
    "G.add_edge('A', 'C')\n",
    "G.add_edge('C', 'D')\n",
    "nx.shortest_path(G, 'A', 'D', weight='weight')"
   ]
  },
  {
   "cell_type": "markdown",
   "metadata": {},
   "source": [
    "### 데이터 임포트\n",
    "- 데이터 내 값: NaN은 하나의 열 단위로 존재하는데, 이는 해당 열의 인원이 출석하지 않음을 의미함. -> 제거\n",
    "- 데이터 내 값: - 은 본인이 본인을 평가할 수 없기 때문에 입력된 것\n",
    "- 데이터 내 값: 1 은 관계가 있음을 의미\n",
    "- 데이터 내 값: 0 은 관계가 없음을 의미"
   ]
  },
  {
   "cell_type": "code",
   "execution_count": 9,
   "metadata": {},
   "outputs": [
    {
     "data": {
      "text/html": [
       "<div>\n",
       "<style scoped>\n",
       "    .dataframe tbody tr th:only-of-type {\n",
       "        vertical-align: middle;\n",
       "    }\n",
       "\n",
       "    .dataframe tbody tr th {\n",
       "        vertical-align: top;\n",
       "    }\n",
       "\n",
       "    .dataframe thead th {\n",
       "        text-align: right;\n",
       "    }\n",
       "</style>\n",
       "<table border=\"1\" class=\"dataframe\">\n",
       "  <thead>\n",
       "    <tr style=\"text-align: right;\">\n",
       "      <th></th>\n",
       "      <th>학생 이름은 무엇입니까?</th>\n",
       "      <th>1. 이정우</th>\n",
       "      <th>2. 이혜진</th>\n",
       "      <th>3. 이수현</th>\n",
       "      <th>4. 김태영</th>\n",
       "      <th>5. 이승환</th>\n",
       "      <th>6. 정승용</th>\n",
       "      <th>7. 지서향</th>\n",
       "      <th>8. 김태균</th>\n",
       "      <th>9. 진민경</th>\n",
       "      <th>10. 정윤영</th>\n",
       "      <th>11. 오혜민</th>\n",
       "      <th>12. 유경환</th>\n",
       "    </tr>\n",
       "  </thead>\n",
       "  <tbody>\n",
       "    <tr>\n",
       "      <th>0</th>\n",
       "      <td>정윤영</td>\n",
       "      <td>1</td>\n",
       "      <td>0</td>\n",
       "      <td>0</td>\n",
       "      <td>0</td>\n",
       "      <td>0</td>\n",
       "      <td>0</td>\n",
       "      <td>0</td>\n",
       "      <td>1</td>\n",
       "      <td>1</td>\n",
       "      <td>0</td>\n",
       "      <td>0</td>\n",
       "      <td>0</td>\n",
       "    </tr>\n",
       "    <tr>\n",
       "      <th>1</th>\n",
       "      <td>진민경</td>\n",
       "      <td>1</td>\n",
       "      <td>0</td>\n",
       "      <td>0</td>\n",
       "      <td>0</td>\n",
       "      <td>0</td>\n",
       "      <td>0</td>\n",
       "      <td>0</td>\n",
       "      <td>1</td>\n",
       "      <td>0</td>\n",
       "      <td>1</td>\n",
       "      <td>0</td>\n",
       "      <td>0</td>\n",
       "    </tr>\n",
       "    <tr>\n",
       "      <th>2</th>\n",
       "      <td>지서향</td>\n",
       "      <td>1</td>\n",
       "      <td>0</td>\n",
       "      <td>0</td>\n",
       "      <td>0</td>\n",
       "      <td>0</td>\n",
       "      <td>0</td>\n",
       "      <td>0</td>\n",
       "      <td>0</td>\n",
       "      <td>0</td>\n",
       "      <td>0</td>\n",
       "      <td>0</td>\n",
       "      <td>0</td>\n",
       "    </tr>\n",
       "    <tr>\n",
       "      <th>3</th>\n",
       "      <td>이혜진</td>\n",
       "      <td>1</td>\n",
       "      <td>0</td>\n",
       "      <td>1</td>\n",
       "      <td>0</td>\n",
       "      <td>0</td>\n",
       "      <td>0</td>\n",
       "      <td>0</td>\n",
       "      <td>0</td>\n",
       "      <td>0</td>\n",
       "      <td>0</td>\n",
       "      <td>0</td>\n",
       "      <td>0</td>\n",
       "    </tr>\n",
       "    <tr>\n",
       "      <th>4</th>\n",
       "      <td>이수현</td>\n",
       "      <td>1</td>\n",
       "      <td>1</td>\n",
       "      <td>0</td>\n",
       "      <td>0</td>\n",
       "      <td>0</td>\n",
       "      <td>0</td>\n",
       "      <td>0</td>\n",
       "      <td>0</td>\n",
       "      <td>0</td>\n",
       "      <td>0</td>\n",
       "      <td>0</td>\n",
       "      <td>0</td>\n",
       "    </tr>\n",
       "  </tbody>\n",
       "</table>\n",
       "</div>"
      ],
      "text/plain": [
       "  학생 이름은 무엇입니까?  1. 이정우  2. 이혜진  3. 이수현  4. 김태영  5. 이승환  6. 정승용  7. 지서향  \\\n",
       "0           정윤영       1       0       0       0       0       0       0   \n",
       "1           진민경       1       0       0       0       0       0       0   \n",
       "2           지서향       1       0       0       0       0       0       0   \n",
       "3           이혜진       1       0       1       0       0       0       0   \n",
       "4           이수현       1       1       0       0       0       0       0   \n",
       "\n",
       "   8. 김태균  9. 진민경  10. 정윤영  11. 오혜민  12. 유경환  \n",
       "0       1       1        0        0        0  \n",
       "1       1       0        1        0        0  \n",
       "2       0       0        0        0        0  \n",
       "3       0       0        0        0        0  \n",
       "4       0       0        0        0        0  "
      ]
     },
     "execution_count": 9,
     "metadata": {},
     "output_type": "execute_result"
    }
   ],
   "source": [
    "# 구글 설문 데이터를 불러옴.\n",
    "# data = pd.read_excel(\"studentnetwork_download.xlsx\")\n",
    "data = pd.read_excel(\"dremnetwork.xlsx\")\n",
    "data.head()"
   ]
  },
  {
   "cell_type": "code",
   "execution_count": 10,
   "metadata": {},
   "outputs": [],
   "source": [
    "data.set_index(\"학생 이름은 무엇입니까?\", inplace = True)"
   ]
  },
  {
   "cell_type": "code",
   "execution_count": 11,
   "metadata": {},
   "outputs": [
    {
     "data": {
      "text/html": [
       "<div>\n",
       "<style scoped>\n",
       "    .dataframe tbody tr th:only-of-type {\n",
       "        vertical-align: middle;\n",
       "    }\n",
       "\n",
       "    .dataframe tbody tr th {\n",
       "        vertical-align: top;\n",
       "    }\n",
       "\n",
       "    .dataframe thead th {\n",
       "        text-align: right;\n",
       "    }\n",
       "</style>\n",
       "<table border=\"1\" class=\"dataframe\">\n",
       "  <thead>\n",
       "    <tr style=\"text-align: right;\">\n",
       "      <th></th>\n",
       "      <th>1. 이정우</th>\n",
       "      <th>2. 이혜진</th>\n",
       "      <th>3. 이수현</th>\n",
       "      <th>4. 김태영</th>\n",
       "      <th>5. 이승환</th>\n",
       "      <th>6. 정승용</th>\n",
       "      <th>7. 지서향</th>\n",
       "      <th>8. 김태균</th>\n",
       "      <th>9. 진민경</th>\n",
       "      <th>10. 정윤영</th>\n",
       "      <th>11. 오혜민</th>\n",
       "      <th>12. 유경환</th>\n",
       "    </tr>\n",
       "    <tr>\n",
       "      <th>학생 이름은 무엇입니까?</th>\n",
       "      <th></th>\n",
       "      <th></th>\n",
       "      <th></th>\n",
       "      <th></th>\n",
       "      <th></th>\n",
       "      <th></th>\n",
       "      <th></th>\n",
       "      <th></th>\n",
       "      <th></th>\n",
       "      <th></th>\n",
       "      <th></th>\n",
       "      <th></th>\n",
       "    </tr>\n",
       "  </thead>\n",
       "  <tbody>\n",
       "    <tr>\n",
       "      <th>정윤영</th>\n",
       "      <td>1</td>\n",
       "      <td>0</td>\n",
       "      <td>0</td>\n",
       "      <td>0</td>\n",
       "      <td>0</td>\n",
       "      <td>0</td>\n",
       "      <td>0</td>\n",
       "      <td>1</td>\n",
       "      <td>1</td>\n",
       "      <td>0</td>\n",
       "      <td>0</td>\n",
       "      <td>0</td>\n",
       "    </tr>\n",
       "    <tr>\n",
       "      <th>진민경</th>\n",
       "      <td>1</td>\n",
       "      <td>0</td>\n",
       "      <td>0</td>\n",
       "      <td>0</td>\n",
       "      <td>0</td>\n",
       "      <td>0</td>\n",
       "      <td>0</td>\n",
       "      <td>1</td>\n",
       "      <td>0</td>\n",
       "      <td>1</td>\n",
       "      <td>0</td>\n",
       "      <td>0</td>\n",
       "    </tr>\n",
       "    <tr>\n",
       "      <th>지서향</th>\n",
       "      <td>1</td>\n",
       "      <td>0</td>\n",
       "      <td>0</td>\n",
       "      <td>0</td>\n",
       "      <td>0</td>\n",
       "      <td>0</td>\n",
       "      <td>0</td>\n",
       "      <td>0</td>\n",
       "      <td>0</td>\n",
       "      <td>0</td>\n",
       "      <td>0</td>\n",
       "      <td>0</td>\n",
       "    </tr>\n",
       "    <tr>\n",
       "      <th>이혜진</th>\n",
       "      <td>1</td>\n",
       "      <td>0</td>\n",
       "      <td>1</td>\n",
       "      <td>0</td>\n",
       "      <td>0</td>\n",
       "      <td>0</td>\n",
       "      <td>0</td>\n",
       "      <td>0</td>\n",
       "      <td>0</td>\n",
       "      <td>0</td>\n",
       "      <td>0</td>\n",
       "      <td>0</td>\n",
       "    </tr>\n",
       "    <tr>\n",
       "      <th>이수현</th>\n",
       "      <td>1</td>\n",
       "      <td>1</td>\n",
       "      <td>0</td>\n",
       "      <td>0</td>\n",
       "      <td>0</td>\n",
       "      <td>0</td>\n",
       "      <td>0</td>\n",
       "      <td>0</td>\n",
       "      <td>0</td>\n",
       "      <td>0</td>\n",
       "      <td>0</td>\n",
       "      <td>0</td>\n",
       "    </tr>\n",
       "  </tbody>\n",
       "</table>\n",
       "</div>"
      ],
      "text/plain": [
       "               1. 이정우  2. 이혜진  3. 이수현  4. 김태영  5. 이승환  6. 정승용  7. 지서향  8. 김태균  \\\n",
       "학생 이름은 무엇입니까?                                                                   \n",
       "정윤영                 1       0       0       0       0       0       0       1   \n",
       "진민경                 1       0       0       0       0       0       0       1   \n",
       "지서향                 1       0       0       0       0       0       0       0   \n",
       "이혜진                 1       0       1       0       0       0       0       0   \n",
       "이수현                 1       1       0       0       0       0       0       0   \n",
       "\n",
       "               9. 진민경  10. 정윤영  11. 오혜민  12. 유경환  \n",
       "학생 이름은 무엇입니까?                                     \n",
       "정윤영                 1        0        0        0  \n",
       "진민경                 0        1        0        0  \n",
       "지서향                 0        0        0        0  \n",
       "이혜진                 0        0        0        0  \n",
       "이수현                 0        0        0        0  "
      ]
     },
     "execution_count": 11,
     "metadata": {},
     "output_type": "execute_result"
    }
   ],
   "source": [
    "# 설문에 참여를 참여를 안 한 열을 제거함.\n",
    "data = data.dropna(axis=1) # axis =1 열을 기준으로 삭제\n",
    "data.head()"
   ]
  },
  {
   "cell_type": "code",
   "execution_count": 12,
   "metadata": {},
   "outputs": [
    {
     "data": {
      "text/plain": [
       "Index(['1. 이정우', '2. 이혜진', '3. 이수현', '4. 김태영', '5. 이승환', '6. 정승용', '7. 지서향',\n",
       "       '8. 김태균', '9. 진민경', '10. 정윤영', '11. 오혜민', '12. 유경환'],\n",
       "      dtype='object')"
      ]
     },
     "execution_count": 12,
     "metadata": {},
     "output_type": "execute_result"
    }
   ],
   "source": [
    "# 우리는 adjacency matrix나 edgelist가 필요함.\n",
    "# 컬럼명을 변경해야함. ex) 1. 경영학부 10학번 이정우 -> 이정우\n",
    "data.columns # 우선 컬럼명 조회"
   ]
  },
  {
   "cell_type": "code",
   "execution_count": 13,
   "metadata": {},
   "outputs": [
    {
     "data": {
      "text/plain": [
       "['1.', '이정우']"
      ]
     },
     "execution_count": 13,
     "metadata": {},
     "output_type": "execute_result"
    }
   ],
   "source": [
    "data.columns[0].split()"
   ]
  },
  {
   "cell_type": "code",
   "execution_count": 14,
   "metadata": {},
   "outputs": [
    {
     "data": {
      "text/plain": [
       "['이정우', '이혜진', '이수현', '김태영', '이승환']"
      ]
     },
     "execution_count": 14,
     "metadata": {},
     "output_type": "execute_result"
    }
   ],
   "source": [
    "# 컬럼명 정리\n",
    "column_list = []\n",
    "for i in data.columns:\n",
    "    column_list.append(i.split()[-1]) # 공백으로 나눠서 나오는 리스트의 맨 마지막 문자열[-1]이 바로 학생이름임.\n",
    "column_list[:5]"
   ]
  },
  {
   "cell_type": "code",
   "execution_count": 15,
   "metadata": {},
   "outputs": [
    {
     "data": {
      "text/html": [
       "<div>\n",
       "<style scoped>\n",
       "    .dataframe tbody tr th:only-of-type {\n",
       "        vertical-align: middle;\n",
       "    }\n",
       "\n",
       "    .dataframe tbody tr th {\n",
       "        vertical-align: top;\n",
       "    }\n",
       "\n",
       "    .dataframe thead th {\n",
       "        text-align: right;\n",
       "    }\n",
       "</style>\n",
       "<table border=\"1\" class=\"dataframe\">\n",
       "  <thead>\n",
       "    <tr style=\"text-align: right;\">\n",
       "      <th></th>\n",
       "      <th>이정우</th>\n",
       "      <th>이혜진</th>\n",
       "      <th>이수현</th>\n",
       "      <th>김태영</th>\n",
       "      <th>이승환</th>\n",
       "      <th>정승용</th>\n",
       "      <th>지서향</th>\n",
       "      <th>김태균</th>\n",
       "      <th>진민경</th>\n",
       "      <th>정윤영</th>\n",
       "      <th>오혜민</th>\n",
       "      <th>유경환</th>\n",
       "    </tr>\n",
       "    <tr>\n",
       "      <th>학생 이름은 무엇입니까?</th>\n",
       "      <th></th>\n",
       "      <th></th>\n",
       "      <th></th>\n",
       "      <th></th>\n",
       "      <th></th>\n",
       "      <th></th>\n",
       "      <th></th>\n",
       "      <th></th>\n",
       "      <th></th>\n",
       "      <th></th>\n",
       "      <th></th>\n",
       "      <th></th>\n",
       "    </tr>\n",
       "  </thead>\n",
       "  <tbody>\n",
       "    <tr>\n",
       "      <th>정윤영</th>\n",
       "      <td>1</td>\n",
       "      <td>0</td>\n",
       "      <td>0</td>\n",
       "      <td>0</td>\n",
       "      <td>0</td>\n",
       "      <td>0</td>\n",
       "      <td>0</td>\n",
       "      <td>1</td>\n",
       "      <td>1</td>\n",
       "      <td>0</td>\n",
       "      <td>0</td>\n",
       "      <td>0</td>\n",
       "    </tr>\n",
       "    <tr>\n",
       "      <th>진민경</th>\n",
       "      <td>1</td>\n",
       "      <td>0</td>\n",
       "      <td>0</td>\n",
       "      <td>0</td>\n",
       "      <td>0</td>\n",
       "      <td>0</td>\n",
       "      <td>0</td>\n",
       "      <td>1</td>\n",
       "      <td>0</td>\n",
       "      <td>1</td>\n",
       "      <td>0</td>\n",
       "      <td>0</td>\n",
       "    </tr>\n",
       "    <tr>\n",
       "      <th>지서향</th>\n",
       "      <td>1</td>\n",
       "      <td>0</td>\n",
       "      <td>0</td>\n",
       "      <td>0</td>\n",
       "      <td>0</td>\n",
       "      <td>0</td>\n",
       "      <td>0</td>\n",
       "      <td>0</td>\n",
       "      <td>0</td>\n",
       "      <td>0</td>\n",
       "      <td>0</td>\n",
       "      <td>0</td>\n",
       "    </tr>\n",
       "    <tr>\n",
       "      <th>이혜진</th>\n",
       "      <td>1</td>\n",
       "      <td>0</td>\n",
       "      <td>1</td>\n",
       "      <td>0</td>\n",
       "      <td>0</td>\n",
       "      <td>0</td>\n",
       "      <td>0</td>\n",
       "      <td>0</td>\n",
       "      <td>0</td>\n",
       "      <td>0</td>\n",
       "      <td>0</td>\n",
       "      <td>0</td>\n",
       "    </tr>\n",
       "    <tr>\n",
       "      <th>이수현</th>\n",
       "      <td>1</td>\n",
       "      <td>1</td>\n",
       "      <td>0</td>\n",
       "      <td>0</td>\n",
       "      <td>0</td>\n",
       "      <td>0</td>\n",
       "      <td>0</td>\n",
       "      <td>0</td>\n",
       "      <td>0</td>\n",
       "      <td>0</td>\n",
       "      <td>0</td>\n",
       "      <td>0</td>\n",
       "    </tr>\n",
       "  </tbody>\n",
       "</table>\n",
       "</div>"
      ],
      "text/plain": [
       "               이정우  이혜진  이수현  김태영  이승환  정승용  지서향  김태균  진민경  정윤영  오혜민  유경환\n",
       "학생 이름은 무엇입니까?                                                            \n",
       "정윤영              1    0    0    0    0    0    0    1    1    0    0    0\n",
       "진민경              1    0    0    0    0    0    0    1    0    1    0    0\n",
       "지서향              1    0    0    0    0    0    0    0    0    0    0    0\n",
       "이혜진              1    0    1    0    0    0    0    0    0    0    0    0\n",
       "이수현              1    1    0    0    0    0    0    0    0    0    0    0"
      ]
     },
     "execution_count": 15,
     "metadata": {},
     "output_type": "execute_result"
    }
   ],
   "source": [
    "data.columns = column_list\n",
    "data.head()"
   ]
  },
  {
   "cell_type": "code",
   "execution_count": 16,
   "metadata": {},
   "outputs": [
    {
     "data": {
      "text/plain": [
       "[('정윤영', '이정우'),\n",
       " ('정윤영', '김태균'),\n",
       " ('정윤영', '진민경'),\n",
       " ('진민경', '이정우'),\n",
       " ('진민경', '김태균'),\n",
       " ('진민경', '정윤영'),\n",
       " ('지서향', '이정우'),\n",
       " ('이혜진', '이정우'),\n",
       " ('이혜진', '이수현'),\n",
       " ('이수현', '이정우'),\n",
       " ('이수현', '이혜진'),\n",
       " ('김태균', '이정우'),\n",
       " ('김태균', '정윤영'),\n",
       " ('정승용', '이정우'),\n",
       " ('이승환', '이정우'),\n",
       " ('김태영', '이정우'),\n",
       " ('김태영', '오혜민'),\n",
       " ('오혜민', '이정우'),\n",
       " ('이정우', '이혜진'),\n",
       " ('이정우', '이수현'),\n",
       " ('이정우', '김태영'),\n",
       " ('이정우', '이승환'),\n",
       " ('이정우', '정승용'),\n",
       " ('이정우', '지서향'),\n",
       " ('이정우', '김태균'),\n",
       " ('이정우', '진민경'),\n",
       " ('이정우', '정윤영'),\n",
       " ('이정우', '오혜민'),\n",
       " ('이정우', '유경환'),\n",
       " ('유경환', '이정우')]"
      ]
     },
     "execution_count": 16,
     "metadata": {},
     "output_type": "execute_result"
    }
   ],
   "source": [
    "# 엣지리스트 만들기\n",
    "edgelist = []\n",
    "for i in data.index:\n",
    "    for j in data.columns:\n",
    "        if data.loc[i,j] == 1:\n",
    "            edgelist.append((i,j))\n",
    "        else:\n",
    "            pass\n",
    "edgelist"
   ]
  },
  {
   "cell_type": "code",
   "execution_count": 17,
   "metadata": {},
   "outputs": [
    {
     "data": {
      "text/plain": [
       "30"
      ]
     },
     "execution_count": 17,
     "metadata": {},
     "output_type": "execute_result"
    }
   ],
   "source": [
    "len(edgelist) # 관계의 수를 확인"
   ]
  },
  {
   "cell_type": "code",
   "execution_count": 18,
   "metadata": {},
   "outputs": [],
   "source": [
    "# 방향성 그래프를 만들고, 우리가 만든 관계 리스트(edgelist)를 입력시킨다.\n",
    "G = nx.DiGraph()\n",
    "G.add_edges_from(edgelist)"
   ]
  },
  {
   "cell_type": "code",
   "execution_count": 19,
   "metadata": {},
   "outputs": [
    {
     "data": {
      "text/plain": [
       "NodeView(('정윤영', '이정우', '김태균', '진민경', '지서향', '이혜진', '이수현', '정승용', '이승환', '김태영', '오혜민', '유경환'))"
      ]
     },
     "execution_count": 19,
     "metadata": {},
     "output_type": "execute_result"
    }
   ],
   "source": [
    "# node 확인\n",
    "G.node"
   ]
  },
  {
   "cell_type": "code",
   "execution_count": 20,
   "metadata": {},
   "outputs": [
    {
     "data": {
      "text/plain": [
       "OutEdgeView([('정윤영', '이정우'), ('정윤영', '김태균'), ('정윤영', '진민경'), ('이정우', '이혜진'), ('이정우', '이수현'), ('이정우', '김태영'), ('이정우', '이승환'), ('이정우', '정승용'), ('이정우', '지서향'), ('이정우', '김태균'), ('이정우', '진민경'), ('이정우', '정윤영'), ('이정우', '오혜민'), ('이정우', '유경환'), ('김태균', '이정우'), ('김태균', '정윤영'), ('진민경', '이정우'), ('진민경', '김태균'), ('진민경', '정윤영'), ('지서향', '이정우'), ('이혜진', '이정우'), ('이혜진', '이수현'), ('이수현', '이정우'), ('이수현', '이혜진'), ('정승용', '이정우'), ('이승환', '이정우'), ('김태영', '이정우'), ('김태영', '오혜민'), ('오혜민', '이정우'), ('유경환', '이정우')])"
      ]
     },
     "execution_count": 20,
     "metadata": {},
     "output_type": "execute_result"
    }
   ],
   "source": [
    "# edge 확인\n",
    "G.edges"
   ]
  },
  {
   "cell_type": "markdown",
   "metadata": {},
   "source": [
    "### 그래프 그려보기\n",
    "![색깔조합](named_colors.png)\n",
    "- [색상참조](https://matplotlib.org/2.0.2/examples/color/named_colors.html)\n",
    "- [파라미터 참조](https://networkx.github.io/documentation/latest/reference/generated/networkx.drawing.nx_pylab.draw_networkx.html#networkx.drawing.nx_pylab.draw_networkx)"
   ]
  },
  {
   "cell_type": "markdown",
   "metadata": {},
   "source": [
    "- nx.draw(G) : 기본 그리기\n",
    "- nx.draw_circular(G) : 원 위에 노드 놓기\n",
    "- nx.draw_graphviz(G) : Graphviz 사용\n",
    "- nx.draw_kamada_kawai(G) : kamada_kawai 알고리즘\n",
    "- nx.draw_random(G) : 균등 분포를 이용한 랜덤\n",
    "- nx.draw_shell(G) : 동심원 위에 노드 놓기\n",
    "- nx.draw_spectral(G) : 그래프 라플라시안의 고유 벡터 기반\n",
    "- nx.draw_spring(G) : Fruchterman-Reingold force-directed alg. 기반"
   ]
  },
  {
   "cell_type": "code",
   "execution_count": 23,
   "metadata": {},
   "outputs": [
    {
     "data": {
      "image/png": "[encoded data removed]",
      "text/plain": [
       "<matplotlib.figure.Figure at 0x1db177d89b0>"
      ]
     },
     "metadata": {},
     "output_type": "display_data"
    }
   ],
   "source": [
    "nx.draw_shell(G, node_size = [j * 10 for i, j in nx.degree(G)], # 노드 사이즈\n",
    "                     node_color = \"orange\", # 노드 색상\n",
    "                     edge_color = \"slategray\", # 엣지 색상\n",
    "                     alpha = 0.7, # 노드와 엣지의 투명도\n",
    "                     with_labels = True,# 노드 이름 표시 여부\n",
    "                     font_size=10, # 폰트 사이즈\n",
    "                     font_family='Malgun Gothic', # 한글설정\n",
    "                     arrowsize = 10) # 화살표 크기\n",
    "plt.rc('font', family='Malgun Gothic') # 폰트 문제\n",
    "plt.title('경꿈대 수업 네트워크') # 그래프 제목\n",
    "plt.savefig('first_network.png') # 파일 저장"
   ]
  },
  {
   "cell_type": "code",
   "execution_count": 22,
   "metadata": {},
   "outputs": [
    {
     "data": {
      "image/png": "[encoded data removed]",
      "text/plain": [
       "<matplotlib.figure.Figure at 0x1db175d4cc0>"
      ]
     },
     "metadata": {},
     "output_type": "display_data"
    }
   ],
   "source": [
    "nx.draw_kamada_kawai(G, node_size = [j * 10 for i, j in nx.degree(G)], # 노드 사이즈\n",
    "                     # node_color = \"cadetblue\", # 노드 색상\n",
    "                     node_color = range(len(G.nodes)),\n",
    "                     edge_color = \"skyblue\", # 엣지 색상\n",
    "                     # edge_color=colors,\n",
    "                     alpha = 0.7, # 노드와 엣지의 투명도\n",
    "                     with_labels = True, # 노드 이름 표시 여부\n",
    "                     font_size=10, # 폰트 사이즈\n",
    "                     font_family='Malgun Gothic', # 한글설정\n",
    "                     arrowsize = 10) # 화살표 크기\n",
    "plt.rc('font', family='Malgun Gothic') # 폰트 문제\n",
    "plt.title('한양대 2018 경데베 교우 네트워크') # 그래프 제목\n",
    "plt.savefig('second_network.png') # 파일 저장"
   ]
  },
  {
   "cell_type": "code",
   "execution_count": null,
   "metadata": {},
   "outputs": [],
   "source": []
  },
  {
   "cell_type": "markdown",
   "metadata": {},
   "source": [
    "## 4. 데이터 분석"
   ]
  },
  {
   "cell_type": "markdown",
   "metadata": {},
   "source": [
    "### 연결 정도(양적인 영향력)"
   ]
  },
  {
   "cell_type": "code",
   "execution_count": 24,
   "metadata": {},
   "outputs": [
    {
     "data": {
      "text/plain": [
       "DiDegreeView({'정윤영': 6, '이정우': 22, '김태균': 5, '진민경': 5, '지서향': 2, '이혜진': 4, '이수현': 4, '정승용': 2, '이승환': 2, '김태영': 3, '오혜민': 3, '유경환': 2})"
      ]
     },
     "execution_count": 24,
     "metadata": {},
     "output_type": "execute_result"
    }
   ],
   "source": [
    "nx.degree(G)"
   ]
  },
  {
   "cell_type": "code",
   "execution_count": 25,
   "metadata": {},
   "outputs": [
    {
     "data": {
      "text/html": [
       "<div>\n",
       "<style scoped>\n",
       "    .dataframe tbody tr th:only-of-type {\n",
       "        vertical-align: middle;\n",
       "    }\n",
       "\n",
       "    .dataframe tbody tr th {\n",
       "        vertical-align: top;\n",
       "    }\n",
       "\n",
       "    .dataframe thead th {\n",
       "        text-align: right;\n",
       "    }\n",
       "</style>\n",
       "<table border=\"1\" class=\"dataframe\">\n",
       "  <thead>\n",
       "    <tr style=\"text-align: right;\">\n",
       "      <th></th>\n",
       "      <th>0</th>\n",
       "      <th>1</th>\n",
       "    </tr>\n",
       "  </thead>\n",
       "  <tbody>\n",
       "    <tr>\n",
       "      <th>1</th>\n",
       "      <td>이정우</td>\n",
       "      <td>22</td>\n",
       "    </tr>\n",
       "    <tr>\n",
       "      <th>0</th>\n",
       "      <td>정윤영</td>\n",
       "      <td>6</td>\n",
       "    </tr>\n",
       "    <tr>\n",
       "      <th>2</th>\n",
       "      <td>김태균</td>\n",
       "      <td>5</td>\n",
       "    </tr>\n",
       "    <tr>\n",
       "      <th>3</th>\n",
       "      <td>진민경</td>\n",
       "      <td>5</td>\n",
       "    </tr>\n",
       "    <tr>\n",
       "      <th>5</th>\n",
       "      <td>이혜진</td>\n",
       "      <td>4</td>\n",
       "    </tr>\n",
       "    <tr>\n",
       "      <th>6</th>\n",
       "      <td>이수현</td>\n",
       "      <td>4</td>\n",
       "    </tr>\n",
       "    <tr>\n",
       "      <th>9</th>\n",
       "      <td>김태영</td>\n",
       "      <td>3</td>\n",
       "    </tr>\n",
       "    <tr>\n",
       "      <th>10</th>\n",
       "      <td>오혜민</td>\n",
       "      <td>3</td>\n",
       "    </tr>\n",
       "    <tr>\n",
       "      <th>4</th>\n",
       "      <td>지서향</td>\n",
       "      <td>2</td>\n",
       "    </tr>\n",
       "    <tr>\n",
       "      <th>7</th>\n",
       "      <td>정승용</td>\n",
       "      <td>2</td>\n",
       "    </tr>\n",
       "  </tbody>\n",
       "</table>\n",
       "</div>"
      ],
      "text/plain": [
       "      0   1\n",
       "1   이정우  22\n",
       "0   정윤영   6\n",
       "2   김태균   5\n",
       "3   진민경   5\n",
       "5   이혜진   4\n",
       "6   이수현   4\n",
       "9   김태영   3\n",
       "10  오혜민   3\n",
       "4   지서향   2\n",
       "7   정승용   2"
      ]
     },
     "execution_count": 25,
     "metadata": {},
     "output_type": "execute_result"
    }
   ],
   "source": [
    "pd.DataFrame(list(nx.degree(G))).sort_values(by=1, ascending = False).head(10)"
   ]
  },
  {
   "cell_type": "markdown",
   "metadata": {},
   "source": [
    "### 연결중심성\n",
    "- 연결 정도를 비율로 계산(상대적 비교)"
   ]
  },
  {
   "cell_type": "code",
   "execution_count": 26,
   "metadata": {},
   "outputs": [
    {
     "data": {
      "text/plain": [
       "{'정윤영': 0.5454545454545454,\n",
       " '이정우': 2.0,\n",
       " '김태균': 0.4545454545454546,\n",
       " '진민경': 0.4545454545454546,\n",
       " '지서향': 0.18181818181818182,\n",
       " '이혜진': 0.36363636363636365,\n",
       " '이수현': 0.36363636363636365,\n",
       " '정승용': 0.18181818181818182,\n",
       " '이승환': 0.18181818181818182,\n",
       " '김태영': 0.2727272727272727,\n",
       " '오혜민': 0.2727272727272727,\n",
       " '유경환': 0.18181818181818182}"
      ]
     },
     "execution_count": 26,
     "metadata": {},
     "output_type": "execute_result"
    }
   ],
   "source": [
    "nx.degree_centrality(G)"
   ]
  },
  {
   "cell_type": "code",
   "execution_count": 27,
   "metadata": {},
   "outputs": [
    {
     "data": {
      "text/plain": [
       "{'정윤영': 0.5789473684210527,\n",
       " '이정우': 1.0,\n",
       " '김태균': 0.5789473684210527,\n",
       " '진민경': 0.55,\n",
       " '지서향': 0.5238095238095238,\n",
       " '이혜진': 0.55,\n",
       " '이수현': 0.55,\n",
       " '정승용': 0.5238095238095238,\n",
       " '이승환': 0.5238095238095238,\n",
       " '김태영': 0.5238095238095238,\n",
       " '오혜민': 0.55,\n",
       " '유경환': 0.5238095238095238}"
      ]
     },
     "execution_count": 27,
     "metadata": {},
     "output_type": "execute_result"
    }
   ],
   "source": [
    "nx.closeness_centrality(G)"
   ]
  },
  {
   "cell_type": "code",
   "execution_count": 28,
   "metadata": {},
   "outputs": [
    {
     "data": {
      "text/plain": [
       "{'정윤영': 0.004545454545454545,\n",
       " '이정우': 0.9227272727272727,\n",
       " '김태균': 0.0,\n",
       " '진민경': 0.0,\n",
       " '지서향': 0.0,\n",
       " '이혜진': 0.0,\n",
       " '이수현': 0.0,\n",
       " '정승용': 0.0,\n",
       " '이승환': 0.0,\n",
       " '김태영': 0.0,\n",
       " '오혜민': 0.0,\n",
       " '유경환': 0.0}"
      ]
     },
     "execution_count": 28,
     "metadata": {},
     "output_type": "execute_result"
    }
   ],
   "source": [
    "nx.betweenness_centrality(G)"
   ]
  },
  {
   "cell_type": "markdown",
   "metadata": {},
   "source": [
    "![삼각관계](triads.jpg)"
   ]
  },
  {
   "cell_type": "markdown",
   "metadata": {},
   "source": [
    "- 1-003\n",
    "- 3-102\n",
    "- 4-021D\n",
    "- 6-021C"
   ]
  },
  {
   "cell_type": "code",
   "execution_count": 29,
   "metadata": {},
   "outputs": [
    {
     "data": {
      "text/plain": [
       "{'003': 122,\n",
       " '012': 17,\n",
       " '102': 25,\n",
       " '021D': 0,\n",
       " '021U': 0,\n",
       " '021C': 0,\n",
       " '111D': 0,\n",
       " '111U': 0,\n",
       " '030T': 0,\n",
       " '030C': 0,\n",
       " '201': 50,\n",
       " '120D': 0,\n",
       " '120U': 0,\n",
       " '120C': 0,\n",
       " '210': 3,\n",
       " '300': 3}"
      ]
     },
     "execution_count": 29,
     "metadata": {},
     "output_type": "execute_result"
    }
   ],
   "source": [
    "nx.triadic_census(G)"
   ]
  },
  {
   "cell_type": "markdown",
   "metadata": {},
   "source": [
    "## 5. 분석 결과"
   ]
  },
  {
   "cell_type": "code",
   "execution_count": 30,
   "metadata": {},
   "outputs": [
    {
     "name": "stdout",
     "output_type": "stream",
     "text": [
      "Number of Nodes :  12\n",
      "Number of Edges :  30\n",
      "Avg. Node Degree :  5.0\n",
      "Avg. Path Length :  1.7727272727272727\n"
     ]
    }
   ],
   "source": [
    "print(\"Number of Nodes : \", nx.number_of_nodes(G))\n",
    "print(\"Number of Edges : \", nx.number_of_edges(G))\n",
    "degreelist = list(pd.DataFrame(list(nx.degree(G))).iloc[:,1])\n",
    "print(\"Avg. Node Degree : \", float(sum(degreelist))/nx.number_of_nodes(G))\n",
    "print(\"Avg. Path Length : \", nx.average_shortest_path_length(G))"
   ]
  },
  {
   "cell_type": "code",
   "execution_count": 31,
   "metadata": {},
   "outputs": [
    {
     "data": {
      "text/plain": [
       "NodeView(('정윤영', '이정우', '김태균', '진민경', '지서향', '이혜진', '이수현', '정승용', '이승환', '김태영', '오혜민', '유경환'))"
      ]
     },
     "execution_count": 31,
     "metadata": {},
     "output_type": "execute_result"
    }
   ],
   "source": [
    "G.nodes"
   ]
  },
  {
   "cell_type": "code",
   "execution_count": 34,
   "metadata": {},
   "outputs": [],
   "source": [
    "eG = nx.ego_graph(G, \"정승용\", radius=1, center=True, undirected=False, distance=None)"
   ]
  },
  {
   "cell_type": "code",
   "execution_count": 35,
   "metadata": {},
   "outputs": [
    {
     "data": {
      "image/png": "[encoded data removed]",
      "text/plain": [
       "<matplotlib.figure.Figure at 0x1db177f3940>"
      ]
     },
     "metadata": {},
     "output_type": "display_data"
    }
   ],
   "source": [
    "nx.draw_kamada_kawai(eG, node_size = [j * 10 for i, j in nx.degree(G)], # 노드 사이즈\n",
    "                     node_color = \"cadetblue\", # 노드 색상\n",
    "                     edge_color = \"skyblue\", # 엣지 색상\n",
    "                     alpha = 0.7, # 노드와 엣지의 투명도\n",
    "                     with_labels = True, # 노드 이름 표시 여부\n",
    "                     font_size=10, # 폰트 사이즈\n",
    "                     font_family='Malgun Gothic', # 한글설정\n",
    "                     arrowsize = 10) # 화살표 크기\n",
    "plt.rc('font', family='Malgun Gothic') # 폰트 문제\n",
    "plt.title('한양대 2018 경데베 교우 네트워크') # 그래프 제목\n",
    "plt.savefig('second_network.png') # 파일 저장"
   ]
  },
  {
   "cell_type": "markdown",
   "metadata": {},
   "source": [
    "## 6. 시사점"
   ]
  },
  {
   "cell_type": "code",
   "execution_count": null,
   "metadata": {},
   "outputs": [],
   "source": []
  }
 ],
 "metadata": {
  "kernelspec": {
   "display_name": "Python 3",
   "language": "python",
   "name": "python3"
  },
  "language_info": {
   "codemirror_mode": {
    "name": "ipython",
    "version": 3
   },
   "file_extension": ".py",
   "mimetype": "text/x-python",
   "name": "python",
   "nbconvert_exporter": "python",
   "pygments_lexer": "ipython3",
   "version": "3.6.4"
  }
 },
 "nbformat": 4,
 "nbformat_minor": 2
}
