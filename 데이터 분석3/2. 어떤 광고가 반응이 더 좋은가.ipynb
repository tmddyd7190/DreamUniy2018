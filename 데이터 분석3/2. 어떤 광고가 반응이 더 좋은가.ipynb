{
 "cells": [
  {
   "cell_type": "markdown",
   "metadata": {},
   "source": [
    "# 어떤 광고가 반응이 더 좋은가?\n",
    "#### 게임 개빌회사 A는 지난 문제를 현명하게 해결하고 안정적인 영업을 하고 있으나, 매월 실시하고 있는 게임아이템 판매 이벤트에 대해 고객들의 구매율이 상대적으로 낮음을 확인하였음.\n",
    "#### 우리 회사는 맨날 무슨 일이 터지나?\n",
    "![](2-1.jpg)"
   ]
  },
  {
   "cell_type": "markdown",
   "metadata": {},
   "source": [
    "#### 유력 가설: 이벤트 공지 및 홍보 활동에 문제가 있다. 구체적으로 우리 게임에 대한 광고 클릭률이 항상 낮다고 한다.\n",
    "#### 해결책: 다양한 광고를 조사하고 비교해서 우리 게임 광고 클릭"
   ]
  },
  {
   "cell_type": "markdown",
   "metadata": {},
   "source": [
    "## 1. Loading data"
   ]
  },
  {
   "cell_type": "markdown",
   "metadata": {},
   "source": [
    "#### 1) 필요한 라이브러리들을 호출"
   ]
  },
  {
   "cell_type": "code",
   "execution_count": 56,
   "metadata": {},
   "outputs": [],
   "source": [
    "#데이터 분석에 필요한 패키지들을 파이썬으로 호출\n",
    "import pandas as pd\n",
    "import os\n",
    "import numpy as np\n",
    "import matplotlib.pyplot as plt\n",
    "from scipy.stats import chisquare\n",
    "%matplotlib inline"
   ]
  },
  {
   "cell_type": "markdown",
   "metadata": {},
   "source": [
    "#### 2) 각 변수별로 데이터 할당 "
   ]
  },
  {
   "cell_type": "code",
   "execution_count": 22,
   "metadata": {},
   "outputs": [],
   "source": [
    "imp = pd.read_csv(\"ab_test_imp.csv\", sep=\",\")\n",
    "goal = pd.read_csv(\"ab_test_goal.csv\", sep=\",\")"
   ]
  },
  {
   "cell_type": "markdown",
   "metadata": {},
   "source": [
    "![](2-2.jpg)"
   ]
  },
  {
   "cell_type": "markdown",
   "metadata": {},
   "source": [
    "#### 3) 호출된 데이터 정보 확인"
   ]
  },
  {
   "cell_type": "code",
   "execution_count": 23,
   "metadata": {},
   "outputs": [
    {
     "data": {
      "text/html": [
       "<div>\n",
       "<style scoped>\n",
       "    .dataframe tbody tr th:only-of-type {\n",
       "        vertical-align: middle;\n",
       "    }\n",
       "\n",
       "    .dataframe tbody tr th {\n",
       "        vertical-align: top;\n",
       "    }\n",
       "\n",
       "    .dataframe thead th {\n",
       "        text-align: right;\n",
       "    }\n",
       "</style>\n",
       "<table border=\"1\" class=\"dataframe\">\n",
       "  <thead>\n",
       "    <tr style=\"text-align: right;\">\n",
       "      <th></th>\n",
       "      <th>log_date</th>\n",
       "      <th>app_name</th>\n",
       "      <th>test_name</th>\n",
       "      <th>test_case</th>\n",
       "      <th>user_id</th>\n",
       "      <th>transaction_id</th>\n",
       "    </tr>\n",
       "  </thead>\n",
       "  <tbody>\n",
       "    <tr>\n",
       "      <th>0</th>\n",
       "      <td>2017-10-01</td>\n",
       "      <td>game-01</td>\n",
       "      <td>sales_test</td>\n",
       "      <td>B</td>\n",
       "      <td>36703</td>\n",
       "      <td>25622</td>\n",
       "    </tr>\n",
       "    <tr>\n",
       "      <th>1</th>\n",
       "      <td>2017-10-01</td>\n",
       "      <td>game-01</td>\n",
       "      <td>sales_test</td>\n",
       "      <td>A</td>\n",
       "      <td>44339</td>\n",
       "      <td>25623</td>\n",
       "    </tr>\n",
       "    <tr>\n",
       "      <th>2</th>\n",
       "      <td>2017-10-01</td>\n",
       "      <td>game-01</td>\n",
       "      <td>sales_test</td>\n",
       "      <td>B</td>\n",
       "      <td>32087</td>\n",
       "      <td>25624</td>\n",
       "    </tr>\n",
       "    <tr>\n",
       "      <th>3</th>\n",
       "      <td>2017-10-01</td>\n",
       "      <td>game-01</td>\n",
       "      <td>sales_test</td>\n",
       "      <td>B</td>\n",
       "      <td>10160</td>\n",
       "      <td>25625</td>\n",
       "    </tr>\n",
       "    <tr>\n",
       "      <th>4</th>\n",
       "      <td>2017-10-01</td>\n",
       "      <td>game-01</td>\n",
       "      <td>sales_test</td>\n",
       "      <td>B</td>\n",
       "      <td>46113</td>\n",
       "      <td>25626</td>\n",
       "    </tr>\n",
       "  </tbody>\n",
       "</table>\n",
       "</div>"
      ],
      "text/plain": [
       "     log_date app_name   test_name test_case  user_id  transaction_id\n",
       "0  2017-10-01  game-01  sales_test         B    36703           25622\n",
       "1  2017-10-01  game-01  sales_test         A    44339           25623\n",
       "2  2017-10-01  game-01  sales_test         B    32087           25624\n",
       "3  2017-10-01  game-01  sales_test         B    10160           25625\n",
       "4  2017-10-01  game-01  sales_test         B    46113           25626"
      ]
     },
     "execution_count": 23,
     "metadata": {},
     "output_type": "execute_result"
    }
   ],
   "source": [
    "imp.head()"
   ]
  },
  {
   "cell_type": "code",
   "execution_count": 24,
   "metadata": {},
   "outputs": [
    {
     "data": {
      "text/html": [
       "<div>\n",
       "<style scoped>\n",
       "    .dataframe tbody tr th:only-of-type {\n",
       "        vertical-align: middle;\n",
       "    }\n",
       "\n",
       "    .dataframe tbody tr th {\n",
       "        vertical-align: top;\n",
       "    }\n",
       "\n",
       "    .dataframe thead th {\n",
       "        text-align: right;\n",
       "    }\n",
       "</style>\n",
       "<table border=\"1\" class=\"dataframe\">\n",
       "  <thead>\n",
       "    <tr style=\"text-align: right;\">\n",
       "      <th></th>\n",
       "      <th>log_date</th>\n",
       "      <th>app_name</th>\n",
       "      <th>test_name</th>\n",
       "      <th>test_case</th>\n",
       "      <th>user_id</th>\n",
       "      <th>transaction_id</th>\n",
       "    </tr>\n",
       "  </thead>\n",
       "  <tbody>\n",
       "    <tr>\n",
       "      <th>0</th>\n",
       "      <td>2017-10-01</td>\n",
       "      <td>game-01</td>\n",
       "      <td>sales_test</td>\n",
       "      <td>B</td>\n",
       "      <td>15021</td>\n",
       "      <td>25638</td>\n",
       "    </tr>\n",
       "    <tr>\n",
       "      <th>1</th>\n",
       "      <td>2017-10-01</td>\n",
       "      <td>game-01</td>\n",
       "      <td>sales_test</td>\n",
       "      <td>B</td>\n",
       "      <td>351</td>\n",
       "      <td>25704</td>\n",
       "    </tr>\n",
       "    <tr>\n",
       "      <th>2</th>\n",
       "      <td>2017-10-01</td>\n",
       "      <td>game-01</td>\n",
       "      <td>sales_test</td>\n",
       "      <td>B</td>\n",
       "      <td>8276</td>\n",
       "      <td>25739</td>\n",
       "    </tr>\n",
       "    <tr>\n",
       "      <th>3</th>\n",
       "      <td>2017-10-01</td>\n",
       "      <td>game-01</td>\n",
       "      <td>sales_test</td>\n",
       "      <td>B</td>\n",
       "      <td>1230</td>\n",
       "      <td>25742</td>\n",
       "    </tr>\n",
       "    <tr>\n",
       "      <th>4</th>\n",
       "      <td>2017-10-01</td>\n",
       "      <td>game-01</td>\n",
       "      <td>sales_test</td>\n",
       "      <td>B</td>\n",
       "      <td>17471</td>\n",
       "      <td>25743</td>\n",
       "    </tr>\n",
       "  </tbody>\n",
       "</table>\n",
       "</div>"
      ],
      "text/plain": [
       "     log_date app_name   test_name test_case  user_id  transaction_id\n",
       "0  2017-10-01  game-01  sales_test         B    15021           25638\n",
       "1  2017-10-01  game-01  sales_test         B      351           25704\n",
       "2  2017-10-01  game-01  sales_test         B     8276           25739\n",
       "3  2017-10-01  game-01  sales_test         B     1230           25742\n",
       "4  2017-10-01  game-01  sales_test         B    17471           25743"
      ]
     },
     "execution_count": 24,
     "metadata": {},
     "output_type": "execute_result"
    }
   ],
   "source": [
    "goal.head()"
   ]
  },
  {
   "cell_type": "markdown",
   "metadata": {},
   "source": [
    "# 2. Data cleaning"
   ]
  },
  {
   "cell_type": "markdown",
   "metadata": {},
   "source": [
    "#### 1) 각 데이터들을 결합"
   ]
  },
  {
   "cell_type": "code",
   "execution_count": 25,
   "metadata": {},
   "outputs": [
    {
     "data": {
      "text/html": [
       "<div>\n",
       "<style scoped>\n",
       "    .dataframe tbody tr th:only-of-type {\n",
       "        vertical-align: middle;\n",
       "    }\n",
       "\n",
       "    .dataframe tbody tr th {\n",
       "        vertical-align: top;\n",
       "    }\n",
       "\n",
       "    .dataframe thead th {\n",
       "        text-align: right;\n",
       "    }\n",
       "</style>\n",
       "<table border=\"1\" class=\"dataframe\">\n",
       "  <thead>\n",
       "    <tr style=\"text-align: right;\">\n",
       "      <th></th>\n",
       "      <th>log_date_x</th>\n",
       "      <th>app_name_x</th>\n",
       "      <th>test_name_x</th>\n",
       "      <th>test_case_x</th>\n",
       "      <th>user_id_x</th>\n",
       "      <th>transaction_id</th>\n",
       "      <th>log_date_y</th>\n",
       "      <th>app_name_y</th>\n",
       "      <th>test_name_y</th>\n",
       "      <th>test_case_y</th>\n",
       "      <th>user_id_y</th>\n",
       "    </tr>\n",
       "  </thead>\n",
       "  <tbody>\n",
       "    <tr>\n",
       "      <th>0</th>\n",
       "      <td>2017-10-01</td>\n",
       "      <td>game-01</td>\n",
       "      <td>sales_test</td>\n",
       "      <td>B</td>\n",
       "      <td>36703.0</td>\n",
       "      <td>25622</td>\n",
       "      <td>NaN</td>\n",
       "      <td>NaN</td>\n",
       "      <td>NaN</td>\n",
       "      <td>NaN</td>\n",
       "      <td>NaN</td>\n",
       "    </tr>\n",
       "    <tr>\n",
       "      <th>1</th>\n",
       "      <td>2017-10-01</td>\n",
       "      <td>game-01</td>\n",
       "      <td>sales_test</td>\n",
       "      <td>A</td>\n",
       "      <td>44339.0</td>\n",
       "      <td>25623</td>\n",
       "      <td>NaN</td>\n",
       "      <td>NaN</td>\n",
       "      <td>NaN</td>\n",
       "      <td>NaN</td>\n",
       "      <td>NaN</td>\n",
       "    </tr>\n",
       "    <tr>\n",
       "      <th>2</th>\n",
       "      <td>2017-10-01</td>\n",
       "      <td>game-01</td>\n",
       "      <td>sales_test</td>\n",
       "      <td>B</td>\n",
       "      <td>32087.0</td>\n",
       "      <td>25624</td>\n",
       "      <td>NaN</td>\n",
       "      <td>NaN</td>\n",
       "      <td>NaN</td>\n",
       "      <td>NaN</td>\n",
       "      <td>NaN</td>\n",
       "    </tr>\n",
       "    <tr>\n",
       "      <th>3</th>\n",
       "      <td>2017-10-01</td>\n",
       "      <td>game-01</td>\n",
       "      <td>sales_test</td>\n",
       "      <td>B</td>\n",
       "      <td>10160.0</td>\n",
       "      <td>25625</td>\n",
       "      <td>NaN</td>\n",
       "      <td>NaN</td>\n",
       "      <td>NaN</td>\n",
       "      <td>NaN</td>\n",
       "      <td>NaN</td>\n",
       "    </tr>\n",
       "    <tr>\n",
       "      <th>4</th>\n",
       "      <td>2017-10-01</td>\n",
       "      <td>game-01</td>\n",
       "      <td>sales_test</td>\n",
       "      <td>B</td>\n",
       "      <td>46113.0</td>\n",
       "      <td>25626</td>\n",
       "      <td>NaN</td>\n",
       "      <td>NaN</td>\n",
       "      <td>NaN</td>\n",
       "      <td>NaN</td>\n",
       "      <td>NaN</td>\n",
       "    </tr>\n",
       "  </tbody>\n",
       "</table>\n",
       "</div>"
      ],
      "text/plain": [
       "   log_date_x app_name_x test_name_x test_case_x  user_id_x  transaction_id  \\\n",
       "0  2017-10-01    game-01  sales_test           B    36703.0           25622   \n",
       "1  2017-10-01    game-01  sales_test           A    44339.0           25623   \n",
       "2  2017-10-01    game-01  sales_test           B    32087.0           25624   \n",
       "3  2017-10-01    game-01  sales_test           B    10160.0           25625   \n",
       "4  2017-10-01    game-01  sales_test           B    46113.0           25626   \n",
       "\n",
       "  log_date_y app_name_y test_name_y test_case_y  user_id_y  \n",
       "0        NaN        NaN         NaN         NaN        NaN  \n",
       "1        NaN        NaN         NaN         NaN        NaN  \n",
       "2        NaN        NaN         NaN         NaN        NaN  \n",
       "3        NaN        NaN         NaN         NaN        NaN  \n",
       "4        NaN        NaN         NaN         NaN        NaN  "
      ]
     },
     "execution_count": 25,
     "metadata": {},
     "output_type": "execute_result"
    }
   ],
   "source": [
    "#두 데이터 결합하기 \n",
    "ImpGoal = imp.merge(goal, on=[\"transaction_id\"], how=\"outer\")\n",
    "ImpGoal.head()"
   ]
  },
  {
   "cell_type": "markdown",
   "metadata": {},
   "source": [
    "#### 2) 일자별 정렬을 위한 날짜 처리"
   ]
  },
  {
   "cell_type": "code",
   "execution_count": 26,
   "metadata": {},
   "outputs": [],
   "source": [
    "# ImpGoal 데이터프레임 내 \"log_date_x\"시리즈를 datetime 유형으로 변경\n",
    "ImpGoal['log_date_x'] = ImpGoal['log_date_x'].apply(lambda x: pd.to_datetime(str(x)))"
   ]
  },
  {
   "cell_type": "markdown",
   "metadata": {},
   "source": [
    "#### 3) 광고별 클릭률 지표 설정"
   ]
  },
  {
   "cell_type": "code",
   "execution_count": 27,
   "metadata": {},
   "outputs": [],
   "source": [
    "#\"is.goal\" 시리즈를 만들고 \"user_id_y\"값이 \"true\"이면 0, 그렇지 않으면 1으로 표시\n",
    "ImpGoal['is_goal'] = np.where(pd.isnull(ImpGoal[\"user_id_y\"]) == True, 0, 1)"
   ]
  },
  {
   "cell_type": "code",
   "execution_count": 28,
   "metadata": {},
   "outputs": [
    {
     "data": {
      "text/html": [
       "<div>\n",
       "<style scoped>\n",
       "    .dataframe tbody tr th:only-of-type {\n",
       "        vertical-align: middle;\n",
       "    }\n",
       "\n",
       "    .dataframe tbody tr th {\n",
       "        vertical-align: top;\n",
       "    }\n",
       "\n",
       "    .dataframe thead th {\n",
       "        text-align: right;\n",
       "    }\n",
       "</style>\n",
       "<table border=\"1\" class=\"dataframe\">\n",
       "  <thead>\n",
       "    <tr style=\"text-align: right;\">\n",
       "      <th></th>\n",
       "      <th>log_date_x</th>\n",
       "      <th>app_name_x</th>\n",
       "      <th>test_name_x</th>\n",
       "      <th>test_case_x</th>\n",
       "      <th>user_id_x</th>\n",
       "      <th>transaction_id</th>\n",
       "      <th>log_date_y</th>\n",
       "      <th>app_name_y</th>\n",
       "      <th>test_name_y</th>\n",
       "      <th>test_case_y</th>\n",
       "      <th>user_id_y</th>\n",
       "      <th>is_goal</th>\n",
       "    </tr>\n",
       "  </thead>\n",
       "  <tbody>\n",
       "    <tr>\n",
       "      <th>0</th>\n",
       "      <td>2017-10-01</td>\n",
       "      <td>game-01</td>\n",
       "      <td>sales_test</td>\n",
       "      <td>B</td>\n",
       "      <td>36703.0</td>\n",
       "      <td>25622</td>\n",
       "      <td>NaN</td>\n",
       "      <td>NaN</td>\n",
       "      <td>NaN</td>\n",
       "      <td>NaN</td>\n",
       "      <td>NaN</td>\n",
       "      <td>0</td>\n",
       "    </tr>\n",
       "    <tr>\n",
       "      <th>1</th>\n",
       "      <td>2017-10-01</td>\n",
       "      <td>game-01</td>\n",
       "      <td>sales_test</td>\n",
       "      <td>A</td>\n",
       "      <td>44339.0</td>\n",
       "      <td>25623</td>\n",
       "      <td>NaN</td>\n",
       "      <td>NaN</td>\n",
       "      <td>NaN</td>\n",
       "      <td>NaN</td>\n",
       "      <td>NaN</td>\n",
       "      <td>0</td>\n",
       "    </tr>\n",
       "    <tr>\n",
       "      <th>2</th>\n",
       "      <td>2017-10-01</td>\n",
       "      <td>game-01</td>\n",
       "      <td>sales_test</td>\n",
       "      <td>B</td>\n",
       "      <td>32087.0</td>\n",
       "      <td>25624</td>\n",
       "      <td>NaN</td>\n",
       "      <td>NaN</td>\n",
       "      <td>NaN</td>\n",
       "      <td>NaN</td>\n",
       "      <td>NaN</td>\n",
       "      <td>0</td>\n",
       "    </tr>\n",
       "    <tr>\n",
       "      <th>3</th>\n",
       "      <td>2017-10-01</td>\n",
       "      <td>game-01</td>\n",
       "      <td>sales_test</td>\n",
       "      <td>B</td>\n",
       "      <td>10160.0</td>\n",
       "      <td>25625</td>\n",
       "      <td>NaN</td>\n",
       "      <td>NaN</td>\n",
       "      <td>NaN</td>\n",
       "      <td>NaN</td>\n",
       "      <td>NaN</td>\n",
       "      <td>0</td>\n",
       "    </tr>\n",
       "    <tr>\n",
       "      <th>4</th>\n",
       "      <td>2017-10-01</td>\n",
       "      <td>game-01</td>\n",
       "      <td>sales_test</td>\n",
       "      <td>B</td>\n",
       "      <td>46113.0</td>\n",
       "      <td>25626</td>\n",
       "      <td>NaN</td>\n",
       "      <td>NaN</td>\n",
       "      <td>NaN</td>\n",
       "      <td>NaN</td>\n",
       "      <td>NaN</td>\n",
       "      <td>0</td>\n",
       "    </tr>\n",
       "  </tbody>\n",
       "</table>\n",
       "</div>"
      ],
      "text/plain": [
       "  log_date_x app_name_x test_name_x test_case_x  user_id_x  transaction_id  \\\n",
       "0 2017-10-01    game-01  sales_test           B    36703.0           25622   \n",
       "1 2017-10-01    game-01  sales_test           A    44339.0           25623   \n",
       "2 2017-10-01    game-01  sales_test           B    32087.0           25624   \n",
       "3 2017-10-01    game-01  sales_test           B    10160.0           25625   \n",
       "4 2017-10-01    game-01  sales_test           B    46113.0           25626   \n",
       "\n",
       "  log_date_y app_name_y test_name_y test_case_y  user_id_y  is_goal  \n",
       "0        NaN        NaN         NaN         NaN        NaN        0  \n",
       "1        NaN        NaN         NaN         NaN        NaN        0  \n",
       "2        NaN        NaN         NaN         NaN        NaN        0  \n",
       "3        NaN        NaN         NaN         NaN        NaN        0  \n",
       "4        NaN        NaN         NaN         NaN        NaN        0  "
      ]
     },
     "execution_count": 28,
     "metadata": {},
     "output_type": "execute_result"
    }
   ],
   "source": [
    "ImpGoal.head()"
   ]
  },
  {
   "cell_type": "markdown",
   "metadata": {},
   "source": [
    "# 3. Data analysis"
   ]
  },
  {
   "cell_type": "markdown",
   "metadata": {},
   "source": [
    "#### 1) 광고별 클릭률 확인"
   ]
  },
  {
   "cell_type": "code",
   "execution_count": 63,
   "metadata": {},
   "outputs": [
    {
     "data": {
      "text/plain": [
       "test_case_x\n",
       "A    0.080256\n",
       "B    0.115392\n",
       "Name: is_goal, dtype: float64"
      ]
     },
     "execution_count": 63,
     "metadata": {},
     "output_type": "execute_result"
    }
   ],
   "source": [
    "# 광고A와 광고B의 각 클릭률 비교\n",
    "ImpGoal[\"is_goal\"].groupby(ImpGoal[\"test_case_x\"]).mean()"
   ]
  },
  {
   "cell_type": "markdown",
   "metadata": {},
   "source": [
    "#### 2) 각 광고별 클릭률 트렌드 확인"
   ]
  },
  {
   "cell_type": "code",
   "execution_count": 64,
   "metadata": {},
   "outputs": [
    {
     "data": {
      "text/plain": [
       "log_date_x  test_case_x\n",
       "2017-10-01  A              0.072165\n",
       "            B              0.126528\n",
       "2017-10-02  A              0.064234\n",
       "            B              0.159040\n",
       "2017-10-03  A              0.140148\n",
       "            B              0.150041\n",
       "2017-10-04  A              0.058514\n",
       "            B              0.119015\n",
       "2017-10-05  A              0.035287\n",
       "            B              0.065637\n",
       "2017-10-06  A              0.098441\n",
       "            B              0.126023\n",
       "2017-10-07  A              0.121630\n",
       "            B              0.113427\n",
       "2017-10-08  A              0.070664\n",
       "            B              0.121010\n",
       "2017-10-09  A              0.120752\n",
       "            B              0.093365\n",
       "2017-10-10  A              0.083578\n",
       "            B              0.072165\n",
       "Name: is_goal, dtype: float64"
      ]
     },
     "execution_count": 64,
     "metadata": {},
     "output_type": "execute_result"
    }
   ],
   "source": [
    "#\"log_date_x\" 기준에 따라 각 광고별 클릭률을 정렬\n",
    "data = ImpGoal.groupby([\"log_date_x\", \"test_case_x\"])[\"is_goal\"].mean()\n",
    "data[:20]"
   ]
  },
  {
   "cell_type": "markdown",
   "metadata": {},
   "source": [
    "# 4. Data Visualization"
   ]
  },
  {
   "cell_type": "markdown",
   "metadata": {},
   "source": [
    "#### 1) 각 광고별 클릭률 트렌드 시각화"
   ]
  },
  {
   "cell_type": "code",
   "execution_count": 65,
   "metadata": {},
   "outputs": [],
   "source": [
    "# unstack()함수를 이용해 완전한 데이터 정규화 수행\n",
    "data = data.unstack(\"test_case_x\")"
   ]
  },
  {
   "cell_type": "code",
   "execution_count": 66,
   "metadata": {},
   "outputs": [
    {
     "data": {
      "text/html": [
       "<div>\n",
       "<style scoped>\n",
       "    .dataframe tbody tr th:only-of-type {\n",
       "        vertical-align: middle;\n",
       "    }\n",
       "\n",
       "    .dataframe tbody tr th {\n",
       "        vertical-align: top;\n",
       "    }\n",
       "\n",
       "    .dataframe thead th {\n",
       "        text-align: right;\n",
       "    }\n",
       "</style>\n",
       "<table border=\"1\" class=\"dataframe\">\n",
       "  <thead>\n",
       "    <tr style=\"text-align: right;\">\n",
       "      <th>test_case_x</th>\n",
       "      <th>A</th>\n",
       "      <th>B</th>\n",
       "    </tr>\n",
       "    <tr>\n",
       "      <th>log_date_x</th>\n",
       "      <th></th>\n",
       "      <th></th>\n",
       "    </tr>\n",
       "  </thead>\n",
       "  <tbody>\n",
       "    <tr>\n",
       "      <th>2017-10-01</th>\n",
       "      <td>0.072165</td>\n",
       "      <td>0.126528</td>\n",
       "    </tr>\n",
       "    <tr>\n",
       "      <th>2017-10-02</th>\n",
       "      <td>0.064234</td>\n",
       "      <td>0.159040</td>\n",
       "    </tr>\n",
       "    <tr>\n",
       "      <th>2017-10-03</th>\n",
       "      <td>0.140148</td>\n",
       "      <td>0.150041</td>\n",
       "    </tr>\n",
       "    <tr>\n",
       "      <th>2017-10-04</th>\n",
       "      <td>0.058514</td>\n",
       "      <td>0.119015</td>\n",
       "    </tr>\n",
       "    <tr>\n",
       "      <th>2017-10-05</th>\n",
       "      <td>0.035287</td>\n",
       "      <td>0.065637</td>\n",
       "    </tr>\n",
       "  </tbody>\n",
       "</table>\n",
       "</div>"
      ],
      "text/plain": [
       "test_case_x         A         B\n",
       "log_date_x                     \n",
       "2017-10-01   0.072165  0.126528\n",
       "2017-10-02   0.064234  0.159040\n",
       "2017-10-03   0.140148  0.150041\n",
       "2017-10-04   0.058514  0.119015\n",
       "2017-10-05   0.035287  0.065637"
      ]
     },
     "execution_count": 66,
     "metadata": {},
     "output_type": "execute_result"
    }
   ],
   "source": [
    "data.head()"
   ]
  },
  {
   "cell_type": "code",
   "execution_count": 67,
   "metadata": {},
   "outputs": [
    {
     "data": {
      "text/plain": [
       "<matplotlib.axes._subplots.AxesSubplot at 0x1b9e63a3128>"
      ]
     },
     "execution_count": 67,
     "metadata": {},
     "output_type": "execute_result"
    },
    {
     "data": {
      "image/png": "[encoded data removed]",
      "text/plain": [
       "<matplotlib.figure.Figure at 0x1b9e636e978>"
      ]
     },
     "metadata": {},
     "output_type": "display_data"
    }
   ],
   "source": [
    "#완성된 데이터를 이용해 시각화 수행\n",
    "data.plot.line(figsize=(15,7), style=\"--\", marker=\"o\", markersize=10, linewidth=2)"
   ]
  }
 ],
 "metadata": {
  "kernelspec": {
   "display_name": "Python 3",
   "language": "python",
   "name": "python3"
  },
  "language_info": {
   "codemirror_mode": {
    "name": "ipython",
    "version": 3
   },
   "file_extension": ".py",
   "mimetype": "text/x-python",
   "name": "python",
   "nbconvert_exporter": "python",
   "pygments_lexer": "ipython3",
   "version": "3.6.1"
  }
 },
 "nbformat": 4,
 "nbformat_minor": 2
}
