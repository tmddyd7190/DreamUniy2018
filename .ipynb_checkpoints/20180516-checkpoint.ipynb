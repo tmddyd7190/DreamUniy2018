{
 "cells": [
  {
   "cell_type": "markdown",
   "metadata": {},
   "source": [
    "# 제어문 & 반복문"
   ]
  },
  {
   "cell_type": "code",
   "execution_count": 2,
   "metadata": {},
   "outputs": [
    {
     "name": "stdout",
     "output_type": "stream",
     "text": [
      "합격\n"
     ]
    }
   ],
   "source": [
    "# if-else 문\n",
    "score = 80\n",
    "if score >=60:\n",
    "    print(\"합격\")\n",
    "else:\n",
    "    print(\"불합격\")"
   ]
  },
  {
   "cell_type": "code",
   "execution_count": 7,
   "metadata": {},
   "outputs": [
    {
     "name": "stdout",
     "output_type": "stream",
     "text": [
      "너 나와서 힘 좀 써\n"
     ]
    }
   ],
   "source": [
    "# 조건이 두개 이상일 때\n",
    "몸무게 = 75 \n",
    "키 = 177\n",
    "if 몸무게 >= 80 or 키 >= 170: # and나 or를 쓸 수 있다.\n",
    "    print(\"너 나와서 힘 좀 써\")\n",
    "else:\n",
    "    print(\"푹 쉬어\")"
   ]
  },
  {
   "cell_type": "code",
   "execution_count": 11,
   "metadata": {},
   "outputs": [
    {
     "name": "stdout",
     "output_type": "stream",
     "text": [
      "음수 입니다.\n"
     ]
    }
   ],
   "source": [
    "# 연속적인 조건문\n",
    "숫자 = int(input(\"숫자 입력: \"))\n",
    "if 숫자 > 0:\n",
    "    print(\"양수 입니다.\")\n",
    "elif 숫자 < 0:\n",
    "    print(\"음수 입니다.\")\n",
    "else:\n",
    "    print(\"0입니다.\")\n"
   ]
  },
  {
   "cell_type": "code",
   "execution_count": 16,
   "metadata": {},
   "outputs": [
    {
     "name": "stdout",
     "output_type": "stream",
     "text": [
      "아이디 없어요\n"
     ]
    }
   ],
   "source": [
    "데이터베이스 = \"show7d\"\n",
    "아이디 = str(input(\"아이디 입력: \"))\n",
    "if 아이디 == 데이터베이스:\n",
    "    print(\"환영합니다.\")\n",
    "else:\n",
    "    print(\"아이디 없어요\")"
   ]
  },
  {
   "cell_type": "code",
   "execution_count": 17,
   "metadata": {},
   "outputs": [
    {
     "name": "stdout",
     "output_type": "stream",
     "text": [
      "방문을 환영합니다!\n",
      "방문을 환영합니다!\n",
      "방문을 환영합니다!\n",
      "방문을 환영합니다!\n",
      "방문을 환영합니다!\n"
     ]
    }
   ],
   "source": [
    "# 반복문\n",
    "print(\"방문을 환영합니다!\")\n",
    "print(\"방문을 환영합니다!\")\n",
    "print(\"방문을 환영합니다!\")\n",
    "print(\"방문을 환영합니다!\")\n",
    "print(\"방문을 환영합니다!\")"
   ]
  },
  {
   "cell_type": "code",
   "execution_count": 24,
   "metadata": {},
   "outputs": [
    {
     "name": "stdout",
     "output_type": "stream",
     "text": [
      "방문을 환영합니다!\n",
      "방문을 환영합니다!\n",
      "방문을 환영합니다!\n",
      "방문을 환영합니다!\n",
      "방문을 환영합니다!\n",
      "방문을 환영합니다!\n",
      "방문을 환영합니다!\n",
      "방문을 환영합니다!\n",
      "방문을 환영합니다!\n",
      "방문을 환영합니다!\n"
     ]
    }
   ],
   "source": [
    "for i in range(10):\n",
    "    print(\"방문을 환영합니다!\")"
   ]
  },
  {
   "cell_type": "code",
   "execution_count": 21,
   "metadata": {},
   "outputs": [
    {
     "data": {
      "text/plain": [
       "range(0, 5)"
      ]
     },
     "execution_count": 21,
     "metadata": {},
     "output_type": "execute_result"
    }
   ],
   "source": [
    "range(0,5)"
   ]
  },
  {
   "cell_type": "code",
   "execution_count": 25,
   "metadata": {},
   "outputs": [
    {
     "name": "stdout",
     "output_type": "stream",
     "text": [
      "i =  1\n",
      "i =  2\n",
      "i =  3\n",
      "i =  4\n",
      "i =  5\n"
     ]
    }
   ],
   "source": [
    "for i in [1,2,3,4,5]:\n",
    "    print(\"i = \",i)"
   ]
  },
  {
   "cell_type": "code",
   "execution_count": 28,
   "metadata": {},
   "outputs": [
    {
     "name": "stdout",
     "output_type": "stream",
     "text": [
      "9 X  1 = 9\n",
      "9 X  2 = 18\n",
      "9 X  3 = 27\n",
      "9 X  4 = 36\n",
      "9 X  5 = 45\n",
      "9 X  6 = 54\n",
      "9 X  7 = 63\n",
      "9 X  8 = 72\n",
      "9 X  9 = 81\n"
     ]
    }
   ],
   "source": [
    "for i in range(1,10):\n",
    "    print(\"9 X \",i,\"=\", 9*i)"
   ]
  },
  {
   "cell_type": "code",
   "execution_count": 31,
   "metadata": {},
   "outputs": [
    {
     "name": "stdout",
     "output_type": "stream",
     "text": [
      "1 X 1 = 1\n",
      "1 X 2 = 2\n",
      "1 X 3 = 3\n",
      "1 X 4 = 4\n",
      "1 X 5 = 5\n",
      "1 X 6 = 6\n",
      "1 X 7 = 7\n",
      "1 X 8 = 8\n",
      "1 X 9 = 9\n",
      "2 X 1 = 2\n",
      "2 X 2 = 4\n",
      "2 X 3 = 6\n",
      "2 X 4 = 8\n",
      "2 X 5 = 10\n",
      "2 X 6 = 12\n",
      "2 X 7 = 14\n",
      "2 X 8 = 16\n",
      "2 X 9 = 18\n",
      "3 X 1 = 3\n",
      "3 X 2 = 6\n",
      "3 X 3 = 9\n",
      "3 X 4 = 12\n",
      "3 X 5 = 15\n",
      "3 X 6 = 18\n",
      "3 X 7 = 21\n",
      "3 X 8 = 24\n",
      "3 X 9 = 27\n",
      "4 X 1 = 4\n",
      "4 X 2 = 8\n",
      "4 X 3 = 12\n",
      "4 X 4 = 16\n",
      "4 X 5 = 20\n",
      "4 X 6 = 24\n",
      "4 X 7 = 28\n",
      "4 X 8 = 32\n",
      "4 X 9 = 36\n",
      "5 X 1 = 5\n",
      "5 X 2 = 10\n",
      "5 X 3 = 15\n",
      "5 X 4 = 20\n",
      "5 X 5 = 25\n",
      "5 X 6 = 30\n",
      "5 X 7 = 35\n",
      "5 X 8 = 40\n",
      "5 X 9 = 45\n",
      "6 X 1 = 6\n",
      "6 X 2 = 12\n",
      "6 X 3 = 18\n",
      "6 X 4 = 24\n",
      "6 X 5 = 30\n",
      "6 X 6 = 36\n",
      "6 X 7 = 42\n",
      "6 X 8 = 48\n",
      "6 X 9 = 54\n",
      "7 X 1 = 7\n",
      "7 X 2 = 14\n",
      "7 X 3 = 21\n",
      "7 X 4 = 28\n",
      "7 X 5 = 35\n",
      "7 X 6 = 42\n",
      "7 X 7 = 49\n",
      "7 X 8 = 56\n",
      "7 X 9 = 63\n",
      "8 X 1 = 8\n",
      "8 X 2 = 16\n",
      "8 X 3 = 24\n",
      "8 X 4 = 32\n",
      "8 X 5 = 40\n",
      "8 X 6 = 48\n",
      "8 X 7 = 56\n",
      "8 X 8 = 64\n",
      "8 X 9 = 72\n",
      "9 X 1 = 9\n",
      "9 X 2 = 18\n",
      "9 X 3 = 27\n",
      "9 X 4 = 36\n",
      "9 X 5 = 45\n",
      "9 X 6 = 54\n",
      "9 X 7 = 63\n",
      "9 X 8 = 72\n",
      "9 X 9 = 81\n"
     ]
    }
   ],
   "source": [
    "for i in range(1,10): # 단 부분\n",
    "    for j in range(1,10): # 계산부분\n",
    "        print(i,\"X\",j,\"=\", i*j)"
   ]
  },
  {
   "cell_type": "code",
   "execution_count": 4,
   "metadata": {},
   "outputs": [
    {
     "name": "stdout",
     "output_type": "stream",
     "text": [
      "1\n",
      "2\n",
      "6\n",
      "24\n",
      "120\n",
      "5 팩토리얼은 120 이다.\n"
     ]
    }
   ],
   "source": [
    "# 팩토리얼 계산하기\n",
    "n = int(input(\"정수 입력 바람: \"))\n",
    "fact = 1\n",
    "for i in range(1,n+1): # (1,n)을 하면 1부터 n-1까지 이다.\n",
    "    fact = fact * i \n",
    "    print(fact) # 계산 진행상황은?\n",
    "print(n,\"팩토리얼은\",fact,\"이다.\")"
   ]
  },
  {
   "cell_type": "code",
   "execution_count": 1,
   "metadata": {},
   "outputs": [
    {
     "name": "stdout",
     "output_type": "stream",
     "text": [
      "아들은 혼자 놉니다.\n",
      "아들은 혼자 놉니다.\n",
      "먹자\n"
     ]
    }
   ],
   "source": [
    "response = \"아니\" # 초기값\n",
    "while response == \"아니\":\n",
    "    print(\"아들은 혼자 놉니다.\")\n",
    "    response = input(\"엄마, 다됬어?\")\n",
    "print(\"먹자\")"
   ]
  },
  {
   "cell_type": "code",
   "execution_count": 2,
   "metadata": {},
   "outputs": [
    {
     "name": "stdout",
     "output_type": "stream",
     "text": [
      "비밀번호가 틀립니다.\n",
      "비밀번호가 틀립니다.\n",
      "로그인 성공\n"
     ]
    }
   ],
   "source": [
    "password = \"\" # 초기값\n",
    "while password != \"administrator\": # password가 비밀번호와 같지 않은 상태\n",
    "    password = input(\"암호를 입력하세요: \")\n",
    "    print(\"비밀번호가 틀립니다.\")\n",
    "print(\"로그인 성공\")"
   ]
  },
  {
   "cell_type": "code",
   "execution_count": 1,
   "metadata": {},
   "outputs": [
    {
     "name": "stdout",
     "output_type": "stream",
     "text": [
      "5 * 1 = 5\n",
      "5 * 2 = 10\n",
      "5 * 3 = 15\n",
      "5 * 4 = 20\n",
      "5 * 5 = 25\n",
      "5 * 6 = 30\n",
      "5 * 7 = 35\n",
      "5 * 8 = 40\n",
      "5 * 9 = 45\n"
     ]
    }
   ],
   "source": [
    "단수 = int(input(\"계산을 원하는 단어 무엇이냐?\"))\n",
    "i = 1 # 초기화 값\n",
    "\n",
    "while i <= 9:\n",
    "    print(\"{단수} * {숫자} = {값}\".format(단수=단수,숫자=i,값=단수 *i))\n",
    "    i = i + 1"
   ]
  },
  {
   "cell_type": "code",
   "execution_count": null,
   "metadata": {},
   "outputs": [],
   "source": []
  }
 ],
 "metadata": {
  "kernelspec": {
   "display_name": "Python 3",
   "language": "python",
   "name": "python3"
  },
  "language_info": {
   "codemirror_mode": {
    "name": "ipython",
    "version": 3
   },
   "file_extension": ".py",
   "mimetype": "text/x-python",
   "name": "python",
   "nbconvert_exporter": "python",
   "pygments_lexer": "ipython3",
   "version": "3.6.4"
  }
 },
 "nbformat": 4,
 "nbformat_minor": 2
}
