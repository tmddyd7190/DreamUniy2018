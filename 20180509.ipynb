{
 "cells": [
  {
   "cell_type": "markdown",
   "metadata": {},
   "source": [
    "# 2018년 5월 9일 4번쨰 수업\n",
    "## 파이썬 자료형+제어문"
   ]
  },
  {
   "cell_type": "code",
   "execution_count": 2,
   "metadata": {},
   "outputs": [
    {
     "name": "stdout",
     "output_type": "stream",
     "text": [
      "x = 10\n"
     ]
    }
   ],
   "source": [
    "# 변수에 어떤 종류의 자료도 저장할 수 있다.\n",
    "x = 10\n",
    "print(\"x =\", x)"
   ]
  },
  {
   "cell_type": "code",
   "execution_count": 4,
   "metadata": {},
   "outputs": [
    {
     "name": "stdout",
     "output_type": "stream",
     "text": [
      "y =  3.14\n"
     ]
    }
   ],
   "source": [
    "y = 3.14\n",
    "print(\"y = \", y)"
   ]
  },
  {
   "cell_type": "code",
   "execution_count": 6,
   "metadata": {},
   "outputs": [
    {
     "name": "stdout",
     "output_type": "stream",
     "text": [
      "내 이름은 정승용\n"
     ]
    }
   ],
   "source": [
    "이름 = \"정승용\"\n",
    "print(\"내 이름은\", 이름)"
   ]
  },
  {
   "cell_type": "code",
   "execution_count": 7,
   "metadata": {},
   "outputs": [
    {
     "data": {
      "text/plain": [
       "'정승용'"
      ]
     },
     "execution_count": 7,
     "metadata": {},
     "output_type": "execute_result"
    }
   ],
   "source": [
    "'정승용'"
   ]
  },
  {
   "cell_type": "code",
   "execution_count": 8,
   "metadata": {},
   "outputs": [
    {
     "data": {
      "text/plain": [
       "\"I'm a boy.\""
      ]
     },
     "execution_count": 8,
     "metadata": {},
     "output_type": "execute_result"
    }
   ],
   "source": [
    "\"I'm a boy.\""
   ]
  },
  {
   "cell_type": "code",
   "execution_count": 1,
   "metadata": {},
   "outputs": [
    {
     "name": "stdout",
     "output_type": "stream",
     "text": [
      "246\n"
     ]
    }
   ],
   "source": [
    "# 문자열 -> 정수형으로 인식 int()\n",
    "t = input(\" 정수를 입력하시오:\")\n",
    "x = int(t)\n",
    "t = input(\" 정수를 입력하시오:\")\n",
    "y = int(t)\n",
    "print(x+y)"
   ]
  },
  {
   "cell_type": "code",
   "execution_count": 10,
   "metadata": {},
   "outputs": [
    {
     "data": {
      "text/plain": [
       "'123!23'"
      ]
     },
     "execution_count": 10,
     "metadata": {},
     "output_type": "execute_result"
    }
   ],
   "source": [
    "\"123\"+\"!23\""
   ]
  },
  {
   "cell_type": "code",
   "execution_count": 12,
   "metadata": {},
   "outputs": [
    {
     "data": {
      "text/plain": [
       "'123123'"
      ]
     },
     "execution_count": 12,
     "metadata": {},
     "output_type": "execute_result"
    }
   ],
   "source": [
    "# 문자열로 인식\n",
    "str(123) + str(123)"
   ]
  },
  {
   "cell_type": "code",
   "execution_count": 2,
   "metadata": {},
   "outputs": [
    {
     "name": "stdout",
     "output_type": "stream",
     "text": [
      "나는 현재21살이다.\n"
     ]
    }
   ],
   "source": [
    "print('나는 현재' + str(21)+'살이다.')"
   ]
  },
  {
   "cell_type": "code",
   "execution_count": 3,
   "metadata": {},
   "outputs": [
    {
     "name": "stdout",
     "output_type": "stream",
     "text": [
      "원주율은3.14입이다.\n"
     ]
    }
   ],
   "source": [
    "print('원주율은' + str(3.14)+'입이다.')"
   ]
  },
  {
   "cell_type": "code",
   "execution_count": 4,
   "metadata": {},
   "outputs": [
    {
     "name": "stdout",
     "output_type": "stream",
     "text": [
      "축하해!축하해!축하해!\n"
     ]
    }
   ],
   "source": [
    "메시지 = \"축하해!\"\n",
    "print(메시지 * 3)"
   ]
  },
  {
   "cell_type": "code",
   "execution_count": 1,
   "metadata": {},
   "outputs": [
    {
     "name": "stdout",
     "output_type": "stream",
     "text": [
      "상품의 가격은 1000원입니다.\n"
     ]
    }
   ],
   "source": [
    "# 문자열에 변수값을 포함.\n",
    "price = input(\"얼마에요?\")\n",
    "print(\"상품의 가격은 {0}원입니다.\".format(price))"
   ]
  },
  {
   "cell_type": "code",
   "execution_count": 3,
   "metadata": {},
   "outputs": [
    {
     "name": "stdout",
     "output_type": "stream",
     "text": [
      "당신의 이름은 정승용입니다.\n"
     ]
    }
   ],
   "source": [
    "name = input(\"이름이 뭐에요?\")\n",
    "print(\"당신의 이름은 {0}입니다.\".format(name))"
   ]
  },
  {
   "cell_type": "code",
   "execution_count": 8,
   "metadata": {},
   "outputs": [
    {
     "data": {
      "text/plain": [
       "'승용'"
      ]
     },
     "execution_count": 8,
     "metadata": {},
     "output_type": "execute_result"
    }
   ],
   "source": [
    "# 개별 문자 추출 = 인덱싱 하나씩 불러오는것이 인덱싱\n",
    "s = input(\"이름이 뭔가요?\")\n",
    "s[0] # 정이 출력됨\n",
    "s[1]+s[2]"
   ]
  },
  {
   "cell_type": "code",
   "execution_count": 13,
   "metadata": {},
   "outputs": [
    {
     "data": {
      "text/plain": [
       "'승'"
      ]
     },
     "execution_count": 13,
     "metadata": {},
     "output_type": "execute_result"
    }
   ],
   "source": [
    "# 일정 범위의 문자 추출 = 슬라이싱 범위를 해서 불러오는 것이 슬라이싱\n",
    "s[1:2]"
   ]
  },
  {
   "cell_type": "code",
   "execution_count": 12,
   "metadata": {},
   "outputs": [
    {
     "data": {
      "text/plain": [
       "'승용'"
      ]
     },
     "execution_count": 12,
     "metadata": {},
     "output_type": "execute_result"
    }
   ],
   "source": [
    "s[1:3]"
   ]
  },
  {
   "cell_type": "code",
   "execution_count": 14,
   "metadata": {},
   "outputs": [
    {
     "name": "stdout",
     "output_type": "stream",
     "text": [
      "당신의 성은 정이고, 이름은 승용입니다.\n"
     ]
    }
   ],
   "source": [
    "s = input(\"당신의 이름은??\")\n",
    "print(\"당신의 성은 {0}이고, 이름은 {1}입니다.\".format(s[0],s[1:3]))"
   ]
  },
  {
   "cell_type": "code",
   "execution_count": 2,
   "metadata": {},
   "outputs": [
    {
     "name": "stdout",
     "output_type": "stream",
     "text": [
      "안녕하세요?\n",
      "만나서 반가워요. 정승용씨\n",
      "이름의 길이가3글자이네요.\n",
      "내년에는 20 이시네요.\n"
     ]
    }
   ],
   "source": [
    "print(\"안녕하세요?\")\n",
    "name = input(\"이름이 뭐에요?\")\n",
    "\n",
    "print(\"만나서 반가워요. {0}씨\".format(name))\n",
    "print(\"이름의 길이가\" + str(len(name))+\"글자이네요.\")\n",
    "\n",
    "age = int(input(\"나이는 어떻게 되세요?\"))\n",
    "print(\"내년에는\", str(age+1),\"이시네요.\")"
   ]
  },
  {
   "cell_type": "code",
   "execution_count": 21,
   "metadata": {},
   "outputs": [],
   "source": [
    "과목 = [\"국어\",\"영어\",\"수학\",\"과학\",\"사회\"]"
   ]
  },
  {
   "cell_type": "code",
   "execution_count": 22,
   "metadata": {},
   "outputs": [
    {
     "data": {
      "text/plain": [
       "['국어', '영어', '수학', '과학', '사회']"
      ]
     },
     "execution_count": 22,
     "metadata": {},
     "output_type": "execute_result"
    }
   ],
   "source": [
    "과목"
   ]
  },
  {
   "cell_type": "code",
   "execution_count": 23,
   "metadata": {},
   "outputs": [
    {
     "data": {
      "text/plain": [
       "'수학'"
      ]
     },
     "execution_count": 23,
     "metadata": {},
     "output_type": "execute_result"
    }
   ],
   "source": [
    "과목[2]"
   ]
  },
  {
   "cell_type": "code",
   "execution_count": 26,
   "metadata": {},
   "outputs": [
    {
     "data": {
      "text/plain": [
       "['수학', '과학']"
      ]
     },
     "execution_count": 26,
     "metadata": {},
     "output_type": "execute_result"
    }
   ],
   "source": [
    "과목[2:4]"
   ]
  },
  {
   "cell_type": "code",
   "execution_count": 27,
   "metadata": {},
   "outputs": [],
   "source": [
    "과목.append(\"네트워크\") # append 추가하다"
   ]
  },
  {
   "cell_type": "code",
   "execution_count": 28,
   "metadata": {},
   "outputs": [
    {
     "data": {
      "text/plain": [
       "['국어', '영어', '수학', '과학', '사회', '네트워크']"
      ]
     },
     "execution_count": 28,
     "metadata": {},
     "output_type": "execute_result"
    }
   ],
   "source": [
    "과목"
   ]
  },
  {
   "cell_type": "code",
   "execution_count": 1,
   "metadata": {},
   "outputs": [
    {
     "data": {
      "text/plain": [
       "['김동현', '임성현', '김명환']"
      ]
     },
     "execution_count": 1,
     "metadata": {},
     "output_type": "execute_result"
    }
   ],
   "source": [
    "친구목록= []\n",
    "\n",
    "친구이름 = input(\"친한 친구 이름을 입력하세요.\")\n",
    "친구목록.append(친구이름)\n",
    "친구이름 = input(\"친한 친구 이름을 입력하세요.\")\n",
    "친구목록.append(친구이름)\n",
    "친구이름 = input(\"친한 친구 이름을 입력하세요.\")\n",
    "친구목록.append(친구이름)\n",
    "\n",
    "친구목록"
   ]
  },
  {
   "cell_type": "code",
   "execution_count": 4,
   "metadata": {},
   "outputs": [
    {
     "data": {
      "text/plain": [
       "True"
      ]
     },
     "execution_count": 4,
     "metadata": {},
     "output_type": "execute_result"
    }
   ],
   "source": [
    "# 비교 연산자\n",
    "100 > 1"
   ]
  },
  {
   "cell_type": "code",
   "execution_count": 5,
   "metadata": {},
   "outputs": [
    {
     "data": {
      "text/plain": [
       "False"
      ]
     },
     "execution_count": 5,
     "metadata": {},
     "output_type": "execute_result"
    }
   ],
   "source": [
    "33 < 33"
   ]
  },
  {
   "cell_type": "code",
   "execution_count": 6,
   "metadata": {},
   "outputs": [
    {
     "data": {
      "text/plain": [
       "True"
      ]
     },
     "execution_count": 6,
     "metadata": {},
     "output_type": "execute_result"
    }
   ],
   "source": [
    "\"정승용\" == \"정승용\""
   ]
  },
  {
   "cell_type": "code",
   "execution_count": 7,
   "metadata": {},
   "outputs": [
    {
     "data": {
      "text/plain": [
       "True"
      ]
     },
     "execution_count": 7,
     "metadata": {},
     "output_type": "execute_result"
    }
   ],
   "source": [
    "\"정승용\" != \"정시용\""
   ]
  },
  {
   "cell_type": "code",
   "execution_count": 9,
   "metadata": {},
   "outputs": [
    {
     "name": "stdout",
     "output_type": "stream",
     "text": [
      "합격!\n",
      "축하해!\n"
     ]
    }
   ],
   "source": [
    "score = int(input(\"점수 몇점?\"))\n",
    "if score >= 70:\n",
    "    print(\"합격!\")\n",
    "    print(\"축하해!\")\n",
    "else:\n",
    "    print(\"불합격!\")\n",
    "    print(\"재응시하세요\")"
   ]
  },
  {
   "cell_type": "code",
   "execution_count": 12,
   "metadata": {},
   "outputs": [
    {
     "name": "stdout",
     "output_type": "stream",
     "text": [
      "이 영화를 보실 수 없습니다.\n"
     ]
    }
   ],
   "source": [
    "나이 = int(input(\"나이를 입력하세요\"))\n",
    "if 나이 >= 19:\n",
    "    print(\"이 영화를 보실 수 있습니다.\")\n",
    "else:\n",
    "    print(\"이 영화를 보실 수 없습니다.\")"
   ]
  },
  {
   "cell_type": "code",
   "execution_count": null,
   "metadata": {},
   "outputs": [],
   "source": []
  }
 ],
 "metadata": {
  "kernelspec": {
   "display_name": "Python 3",
   "language": "python",
   "name": "python3"
  },
  "language_info": {
   "codemirror_mode": {
    "name": "ipython",
    "version": 3
   },
   "file_extension": ".py",
   "mimetype": "text/x-python",
   "name": "python",
   "nbconvert_exporter": "python",
   "pygments_lexer": "ipython3",
   "version": "3.6.4"
  }
 },
 "nbformat": 4,
 "nbformat_minor": 2
}
